{
 "cells": [
  {
   "cell_type": "markdown",
   "metadata": {},
   "source": [
    "# List comprehensions in Python 3\n",
    "<sub>stolen in part from https://python-3-patterns-idioms-test.readthedocs.io/en/latest/Comprehensions.html</sub>\n",
    "\n",
    "_\"Might seem nice if you're used to functional programming\"_"
   ]
  },
  {
   "cell_type": "code",
   "execution_count": null,
   "metadata": {},
   "outputs": [],
   "source": [
    "import base64\n",
    "encoded = ['U0VMRUNUIGZyb21fYmFzZTY0KGwudmFsdWUp',\n",
    "           'ICBGUk9NIGBsaW5lc2AgbA==',\n",
    "           None,\n",
    "           'ICBXSEVSRSBsLnZhbHVlIDw+ICcnOyA=']\n",
    "def print_list(l):\n",
    "    print('\\n'.join(l))\n",
    "def from_base64(s):\n",
    "    return base64.b64decode(s).decode(\"utf-8\")"
   ]
  },
  {
   "cell_type": "markdown",
   "metadata": {},
   "source": [
    "### Making one list from another list:\n",
    "\n",
    "Most transformations of list-like objects consists of the following parts:\n",
    "\n",
    "- An input **sequence**.\n",
    "- A **variable** representing _members_ of the input sequence.\n",
    "- An (optional) **predicate** expression mapping `input_member`s to `Bool`s.\n",
    "- An **output** expression mapping `input_member`s to `output_member`s."
   ]
  },
  {
   "cell_type": "code",
   "execution_count": null,
   "metadata": {},
   "outputs": [],
   "source": [
    "# Imperative\n",
    "decoded = []\n",
    "for l in encoded:  # sequence\n",
    "    if l:          # predicate\n",
    "        decoded.append(from_base64(l))  # output?\n",
    "print_list(decoded)"
   ]
  },
  {
   "cell_type": "code",
   "execution_count": null,
   "metadata": {},
   "outputs": [],
   "source": [
    "# Functional\n",
    "decoded = map(from_base64,      # output\n",
    "              filter(bool,      # predicate\n",
    "                     encoded))  # sequence\n",
    "print_list(decoded)"
   ]
  },
  {
   "cell_type": "code",
   "execution_count": null,
   "metadata": {},
   "outputs": [],
   "source": [
    "# Functional (with anonymous functions)\n",
    "decoded = map(lambda l: from_base64(l),  # output\n",
    "              filter(lambda l: bool(l),  # predicate\n",
    "                     encoded))           # sequence\n",
    "print_list(decoded)"
   ]
  },
  {
   "cell_type": "code",
   "execution_count": null,
   "metadata": {},
   "outputs": [],
   "source": [
    "# Comprehension\n",
    "decoded = [from_base64(l)    # output\n",
    "           for l in encoded  # sequence\n",
    "           if l]             # predicate\n",
    "print_list(decoded)"
   ]
  },
  {
   "cell_type": "markdown",
   "metadata": {},
   "source": [
    "### Non-list comprehensions\n",
    "\n",
    "Almost any list-like object can be worked with in the style of list comprehension."
   ]
  },
  {
   "cell_type": "code",
   "execution_count": null,
   "metadata": {},
   "outputs": [],
   "source": [
    "# range -> generator\n",
    "print(2 * a for a in range(1,10))"
   ]
  },
  {
   "cell_type": "code",
   "execution_count": null,
   "metadata": {},
   "outputs": [],
   "source": [
    "# generator -> set\n",
    "g = (str(i) for i in range(1, 1000))\n",
    "s = {i[0] for i in g}\n",
    "# set -> list\n",
    "l = sorted([int(i) for i in s])\n",
    "print(l)"
   ]
  },
  {
   "cell_type": "code",
   "execution_count": null,
   "metadata": {},
   "outputs": [],
   "source": [
    "# tuple -> dict\n",
    "d = {c: len(c) for c in (\"red\", \"green\", \"blue\")}\n",
    "print(d)"
   ]
  },
  {
   "cell_type": "code",
   "execution_count": null,
   "metadata": {},
   "outputs": [],
   "source": [
    "# dict -> list ?\n",
    "print([x for x in d])"
   ]
  },
  {
   "cell_type": "markdown",
   "metadata": {},
   "source": [
    "### Nested comprehensions\n",
    "\n",
    "Building a nested list is straightforward."
   ]
  },
  {
   "cell_type": "code",
   "execution_count": null,
   "metadata": {},
   "outputs": [],
   "source": [
    "a = [\n",
    "    [sum(range(j))\n",
    "     for j in range(1, i)\n",
    "     if 0 == j % 2]\n",
    "    for i in range(1, 20)\n",
    "    if 0 == i % 5]\n",
    "print(a)"
   ]
  },
  {
   "cell_type": "markdown",
   "metadata": {},
   "source": [
    "In python, **list comprehensions are best understood as shorthand for `for…in…` expressions**."
   ]
  },
  {
   "cell_type": "code",
   "execution_count": null,
   "metadata": {},
   "outputs": [],
   "source": [
    "biggies = []\n",
    "for i in a:\n",
    "    if 2 < len(i):\n",
    "        for j in i:\n",
    "            if 6 < j:\n",
    "                biggies.append(j)\n",
    "print(biggies)"
   ]
  },
  {
   "cell_type": "code",
   "execution_count": null,
   "metadata": {},
   "outputs": [],
   "source": [
    "print([j\n",
    "       for i in a\n",
    "       if 2 < len(i)\n",
    "       for j in i\n",
    "       if 6 < j])               # Normal\n",
    "print([j\n",
    "       for i in a\n",
    "       for j in i\n",
    "       if 2 < len(i) and 6 < j])# Inefficient, but ok\n",
    "print([j\n",
    "       for j in i\n",
    "       if 6 < j\n",
    "       for i in a\n",
    "       if 2 < len(i)])          # Wrong (in python)"
   ]
  },
  {
   "cell_type": "code",
   "execution_count": null,
   "metadata": {},
   "outputs": [],
   "source": [
    "print(i)"
   ]
  },
  {
   "cell_type": "markdown",
   "metadata": {},
   "source": [
    "**Tuple unpacking** works a little differently from nested comprehensions"
   ]
  },
  {
   "cell_type": "code",
   "execution_count": null,
   "metadata": {},
   "outputs": [],
   "source": [
    "print([\n",
    "    a * b\n",
    "    for a, b in (\n",
    "        (1,2),\n",
    "        (3,4),\n",
    "        (5,6),\n",
    "    )\n",
    "])"
   ]
  },
  {
   "cell_type": "markdown",
   "metadata": {},
   "source": [
    "### Indexes and keys"
   ]
  },
  {
   "cell_type": "code",
   "execution_count": null,
   "metadata": {},
   "outputs": [],
   "source": [
    "# unpack tuples from a list of key-value pairs\n",
    "print({k: str(v)+str(v) for k, v in d.items()})"
   ]
  },
  {
   "cell_type": "code",
   "execution_count": null,
   "metadata": {},
   "outputs": [],
   "source": [
    "# unpack tuples from a list of index-value pairs\n",
    "print([(str(2 * v), 1 + i) for i, v in enumerate(l[:5])])"
   ]
  },
  {
   "cell_type": "code",
   "execution_count": null,
   "metadata": {},
   "outputs": [],
   "source": [
    "print(list(enumerate(\n",
    "    {'a', 'b', 'b', 'd'}\n",
    ")))\n",
    "print(list(enumerate(\n",
    "    ('a', 'b', 'c', 'd')\n",
    ")))"
   ]
  },
  {
   "cell_type": "markdown",
   "metadata": {},
   "source": [
    "### Other tools"
   ]
  },
  {
   "cell_type": "code",
   "execution_count": null,
   "metadata": {},
   "outputs": [],
   "source": [
    "import itertools\n",
    "import functools\n",
    "import operator\n",
    "print([\n",
    "    list(v)\n",
    "    for _, v in itertools.groupby(\n",
    "        range(2, 6),\n",
    "        functools.partial(\n",
    "            operator.mod,\n",
    "            36\n",
    "        )\n",
    "    )\n",
    "])"
   ]
  }
 ],
 "metadata": {
  "kernelspec": {
   "display_name": "Python 3",
   "language": "python",
   "name": "python3"
  },
  "language_info": {
   "codemirror_mode": {
    "name": "ipython",
    "version": 3
   },
   "file_extension": ".py",
   "mimetype": "text/x-python",
   "name": "python",
   "nbconvert_exporter": "python",
   "pygments_lexer": "ipython3",
   "version": "3.6.8"
  }
 },
 "nbformat": 4,
 "nbformat_minor": 2
}
